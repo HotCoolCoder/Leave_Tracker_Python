{
 "cells": [
  {
   "cell_type": "code",
   "execution_count": 12,
   "id": "71ef81d1",
   "metadata": {},
   "outputs": [],
   "source": [
    "# pip install pysharepoint"
   ]
  },
  {
   "cell_type": "code",
   "execution_count": 21,
   "id": "83f831c6",
   "metadata": {},
   "outputs": [],
   "source": [
    "#pip install office365-rest-client\n"
   ]
  },
  {
   "cell_type": "code",
   "execution_count": 1,
   "id": "cc66aaf8",
   "metadata": {},
   "outputs": [],
   "source": [
    "#pip install sharepy"
   ]
  },
  {
   "cell_type": "code",
   "execution_count": 1,
   "id": "f2052c11",
   "metadata": {},
   "outputs": [
    {
     "name": "stdout",
     "output_type": "stream",
     "text": [
      "connected\n",
      "<sharepy.session.SharePointSession object at 0x0000022D87AF3160>\n",
      "dataframe creation succesfull for Nov month data\n",
      "the length of df generated :  75\n"
     ]
    }
   ],
   "source": [
    "import sharepy\n",
    "from sharepy import connect\n",
    "from sharepy import SharePointSession\n",
    "import logging\n",
    "import pandas as pd\n",
    "#import json \n",
    "\n",
    "SPUrl = \"https://assetmark-my.sharepoint.com\"\n",
    "username =\"Praveen.Singh@assetmark.com\"\n",
    "password =\"Welcome208435!\" \n",
    "\n",
    "site = \"https://assetmark-my.sharepoint.com/:x:/r/personal/rishi_bhadoria_assetmark_com/Documents/Documents/AM_2022/QA%20Transition/QA_Leave_Tracker_2022.xlsx\"\n",
    "s = sharepy.connect(SPUrl,username,password)\n",
    "print('connected')\n",
    "print(s)\n",
    "\n",
    "# Create header for the http request\n",
    "my_headers = {\n",
    "'accept' : 'application/json;odata=verbose',\n",
    "'content-type' : 'application/json;odata=verbose',\n",
    "'odata' : 'verbose',\n",
    "'X-RequestForceAuthentication' : 'true'\n",
    "}\n",
    "local_file_path=r'C:\\Users\\Praveen.Singh\\Downloads\\S_file.xlsx'\n",
    "response = s.getfile(site,headers = my_headers,filename = local_file_path)\n",
    "#convert excel into dataframe\n",
    "month_name='NOV'\n",
    "try:\n",
    "    df=pd.read_excel(local_file_path,sheet_name=month_name)\n",
    "    print('dataframe creation succesfull for Nov month data')\n",
    "    print('the length of df generated : ', len(df))\n",
    "    #print(df)\n",
    "except Exception as e:\n",
    "    print(e)\n",
    "    \n"
   ]
  },
  {
   "cell_type": "code",
   "execution_count": 32,
   "id": "f97656cb",
   "metadata": {},
   "outputs": [
    {
     "name": "stdout",
     "output_type": "stream",
     "text": [
      "Empty DataFrame\n",
      "Columns: [Emp_Id, Emp_name, BD_1, BD_2, BD_3, BD_4, BD_5, BD_6, BD_7, BD_8, BD_9, BD_10, BD_11, BD_12, BD_13, BD_14, BD_15, BD_16, BD_17, BD_18, BD_19, BD_20, BD_21, BD_22, BD_23, BD_24, BD_25, BD_26, BD_27, BD_28, BD_29, BD_30, BD_31]\n",
      "Index: []\n",
      "\n",
      "[0 rows x 33 columns]\n"
     ]
    }
   ],
   "source": [
    "col_list=['Emp_Id','Emp_name','BD_1','BD_2','BD_3','BD_4','BD_5','BD_6','BD_7','BD_8','BD_9','BD_10',\n",
    "         'BD_11','BD_12','BD_13','BD_14','BD_15','BD_16','BD_17','BD_18','BD_19','BD_20','BD_21','BD_22','BD_23','BD_24',\n",
    "          'BD_25','BD_26','BD_27','BD_28','BD_29','BD_30','BD_31']\n",
    "push_db=pd.DataFrame(columns=col_list)\n",
    "print(push_db)\n"
   ]
  },
  {
   "cell_type": "code",
   "execution_count": 5,
   "id": "fbb0854e",
   "metadata": {},
   "outputs": [
    {
     "name": "stdout",
     "output_type": "stream",
     "text": [
      "['S.No.', 'Emp Id', 'Name', 'Unnamed: 3', 'Tuesday', 'Wednesday', 'Thursday', 'Friday', 'Saturday', 'Sunday', 'Monday', 'Tuesday.1', 'Wednesday.1', 'Thursday.1', 'Friday.1', 'Saturday.1', 'Sunday.1', 'Monday.1', 'Tuesday.2', 'Wednesday.2', 'Thursday.2', 'Friday.2', 'Saturday.2', 'Sunday.2', 'Monday.2', 'Tuesday.3', 'Wednesday.3', 'Thursday.3', 'Friday.3', 'Saturday.3', 'Sunday.3', 'Monday.3', 'Tuesday.4', 'Wednesday.4']\n"
     ]
    }
   ],
   "source": [
    "l1=df.columns.tolist()\n",
    "print(l1)"
   ]
  },
  {
   "cell_type": "code",
   "execution_count": 6,
   "id": "1721e090",
   "metadata": {},
   "outputs": [
    {
     "name": "stdout",
     "output_type": "stream",
     "text": [
      "['Emp Id', 'Name', 'Tuesday', 'Wednesday', 'Thursday', 'Friday', 'Saturday', 'Sunday', 'Monday', 'Tuesday.1', 'Wednesday.1', 'Thursday.1', 'Friday.1', 'Saturday.1', 'Sunday.1', 'Monday.1', 'Tuesday.2', 'Wednesday.2', 'Thursday.2', 'Friday.2', 'Saturday.2', 'Sunday.2', 'Monday.2', 'Tuesday.3', 'Wednesday.3', 'Thursday.3', 'Friday.3', 'Saturday.3', 'Sunday.3', 'Monday.3', 'Tuesday.4', 'Wednesday.4']\n"
     ]
    }
   ],
   "source": [
    "df.drop(['S.No.','Unnamed: 3'],axis=1,inplace=True) \n",
    "l1=df.columns.tolist()\n",
    "print(l1)"
   ]
  },
  {
   "cell_type": "code",
   "execution_count": 7,
   "id": "5439ea54",
   "metadata": {},
   "outputs": [],
   "source": [
    "df.loc[:,[i for i in l1 if (i.startswith('Saturday') or i.startswith('Sunday'))]]='WH'"
   ]
  },
  {
   "cell_type": "code",
   "execution_count": 8,
   "id": "19bed967",
   "metadata": {},
   "outputs": [],
   "source": [
    "df.fillna('Y', inplace=True)"
   ]
  },
  {
   "cell_type": "code",
   "execution_count": 9,
   "id": "29374bfb",
   "metadata": {},
   "outputs": [],
   "source": [
    "df=df[(df.Name!='Y') & (df.Name!='Gurgaon Team') & (df.Name!='Chennai Team') & (df.Name!='Interns') & (df.Name!='Mexico Team') & (df.Name!='LEGEND') & (df.Name!='Planned Leave') &  (df.Name!='Sick Leave') & (df.Name!='Unplanned Leave') & (df.Name!='Public Holiday')]"
   ]
  },
  {
   "cell_type": "code",
   "execution_count": 21,
   "id": "4e3cd112",
   "metadata": {},
   "outputs": [],
   "source": [
    "df = df.reset_index(drop=True).rename(columns={'Name':'Emp name'})"
   ]
  },
  {
   "cell_type": "code",
   "execution_count": 22,
   "id": "1e9d84f8",
   "metadata": {},
   "outputs": [
    {
     "name": "stdout",
     "output_type": "stream",
     "text": [
      "      Emp Id        Emp name Tuesday Wednesday Thursday Friday Saturday  \\\n",
      "0   606579.0      Amit Malik       Y         Y        Y      Y       WH   \n",
      "1   603325.0     Anuj Kogata      PL         Y        Y      Y       WH   \n",
      "2          Y   Chetna Sehgal       Y         Y        Y      Y       WH   \n",
      "3   606842.0     Ishan Mehta       Y         Y        Y      Y       WH   \n",
      "4   606831.0     Meenu Dagar       Y         Y        Y      Y       WH   \n",
      "..       ...             ...     ...       ...      ...    ...      ...   \n",
      "58  608193.0     Juan Sotelo       Y         Y        Y      Y       WH   \n",
      "59  608195.0     Luis Rivera       Y         Y        Y      Y       WH   \n",
      "60  608152.0   Ivan Gonzalez       Y         Y        Y      Y       WH   \n",
      "61  608137.0  Jesus Olivares       Y         Y        Y      Y       WH   \n",
      "62  608055.0   Juan Santiago       Y         Y        Y      Y       WH   \n",
      "\n",
      "   Sunday Monday Tuesday.1  ... Monday.2 Tuesday.3 Wednesday.3 Thursday.3  \\\n",
      "0      WH      Y        PH  ...        Y         Y           Y          Y   \n",
      "1      WH      Y        PH  ...        Y         Y           Y          Y   \n",
      "2      WH      Y        PH  ...        Y         Y           Y          Y   \n",
      "3      WH      Y        PH  ...        Y        PL          PL         PL   \n",
      "4      WH     UL        PH  ...        Y         Y           Y          Y   \n",
      "..    ...    ...       ...  ...      ...       ...         ...        ...   \n",
      "58     WH      Y         Y  ...       PH         Y           Y          Y   \n",
      "59     WH      Y         Y  ...       PH         Y           Y          Y   \n",
      "60     WH      Y         Y  ...       PH         Y           Y          Y   \n",
      "61     WH      Y         Y  ...       PH         Y           Y          Y   \n",
      "62     WH      Y         Y  ...       PH         Y           Y          Y   \n",
      "\n",
      "   Friday.3 Saturday.3 Sunday.3 Monday.3 Tuesday.4 Wednesday.4  \n",
      "0         Y         WH       WH       PL        PL          PL  \n",
      "1         Y         WH       WH        Y         Y           Y  \n",
      "2         Y         WH       WH        Y         Y           Y  \n",
      "3        PL         WH       WH        Y         Y           Y  \n",
      "4         Y         WH       WH        Y         Y           Y  \n",
      "..      ...        ...      ...      ...       ...         ...  \n",
      "58        Y         WH       WH        Y         Y           Y  \n",
      "59        Y         WH       WH        Y         Y           Y  \n",
      "60        Y         WH       WH       PL         Y           Y  \n",
      "61        Y         WH       WH        Y         Y           Y  \n",
      "62        Y         WH       WH       PL         Y           Y  \n",
      "\n",
      "[63 rows x 32 columns]\n"
     ]
    }
   ],
   "source": [
    "df.to_excel(r'C:\\Users\\Praveen.Singh\\Downloads\\df_file.xlsx',index=False)\n",
    "print(df)"
   ]
  },
  {
   "cell_type": "code",
   "execution_count": 14,
   "id": "b78e237c",
   "metadata": {},
   "outputs": [
    {
     "name": "stdout",
     "output_type": "stream",
     "text": [
      "['Gurgaon', 'Gurgaon', 'Gurgaon', 'Gurgaon', 'Gurgaon', 'Gurgaon', 'Gurgaon', 'Gurgaon', 'Gurgaon', 'Gurgaon', 'Gurgaon', 'Gurgaon', 'Gurgaon', 'Gurgaon', 'Gurgaon', 'Gurgaon', 'Gurgaon', 'Gurgaon', 'Gurgaon', 'Gurgaon', 'Gurgaon', 'Gurgaon', 'Gurgaon', 'Gurgaon', 'Gurgaon', 'Gurgaon', 'Gurgaon', 'Chennai', 'Chennai', 'Chennai', 'Chennai', 'Chennai', 'Chennai', 'Chennai', 'Chennai', 'Chennai', 'Gurgaon', 'Gurgaon', 'Gurgaon', 'Mexico', 'Mexico', 'Mexico', 'Mexico', 'Mexico', 'Mexico', 'Mexico', 'Mexico', 'Mexico', 'Mexico', 'Mexico', 'Mexico', 'Mexico', 'Mexico', 'Mexico', 'Mexico', 'Mexico', 'Mexico', 'Mexico', 'Mexico', 'Mexico', 'Mexico', 'Mexico', 'Mexico']\n"
     ]
    }
   ],
   "source": [
    "#Region list\n",
    "l3=['Gurgaon']*27\n",
    "l3.extend(['Chennai']*9)\n",
    "l3.extend(['Gurgaon']*3)\n",
    "l3.extend(['Mexico']*24)\n",
    "print(l3)"
   ]
  },
  {
   "cell_type": "code",
   "execution_count": 16,
   "id": "1992d4dc",
   "metadata": {},
   "outputs": [
    {
     "name": "stdout",
     "output_type": "stream",
     "text": [
      "{'emp_name': ['Amit Malik', 'Anuj Kogata', 'Chetna Sehgal', 'Ishan Mehta', 'Meenu Dagar', 'Nitu Panjiyar', 'Praful Tufchi', 'Prashant Yadav', 'Rakhi Chauhan', 'Sandeep Kaur', 'Shubham Gupta', 'Sourav Anand', 'Vipin Grover', 'Priyanka Goyal', 'Praveen Singh', 'Anurag Gupta', 'Anmol Kumar', 'Ashima Sethi', 'Kanika', 'Abhey Verma', 'Ritu Singh', 'Mohammad Sarwar', 'Varun Garg', 'Rahul A', 'Smriti Agarwal', 'Jyotsana Singh', 'Himanshi Sharma', 'Dinesh Babu', 'Jaya Sudha B', 'Kurnool Mahesh Kumar', 'Lallu Prasath Gunasekaran', 'Madhan Kumar', 'Pugazhendhi C', 'Suriyakumar Manoharan', 'Tarun Sivalingam', 'Vignesh', 'Bhanu Pratap Sunda ', 'Harshul ', 'Paritosh Sharma ', 'Atzel Hisao Armenta Blanco', 'Cesar Omar Morales Rodriguez', 'Edgar Hernandez Espinosa', 'Jonathan Francisco Lopez Luna', 'Leonardo Garza Estrada Berg', 'Luis Fernando Ambriz Calderon', 'Maria Fernanda Rodriguez', 'Roberto Jacob Ponce Gamboa', 'Luis Eduardo Larios Flores', 'Jesus Meraz', 'Majhay Caro', 'Lourdes Rangel', 'Victor Rivas', 'Juan Garcia', 'Lilia Gutierrez', 'Antonio Rojas', 'Angelina Crespo', 'Erick Carrera', 'Juan Rio', 'Juan Sotelo', 'Luis Rivera', 'Ivan Gonzalez', 'Jesus Olivares', 'Juan Santiago'], 'Region': ['Gurgaon', 'Gurgaon', 'Gurgaon', 'Gurgaon', 'Gurgaon', 'Gurgaon', 'Gurgaon', 'Gurgaon', 'Gurgaon', 'Gurgaon', 'Gurgaon', 'Gurgaon', 'Gurgaon', 'Gurgaon', 'Gurgaon', 'Gurgaon', 'Gurgaon', 'Gurgaon', 'Gurgaon', 'Gurgaon', 'Gurgaon', 'Gurgaon', 'Gurgaon', 'Gurgaon', 'Gurgaon', 'Gurgaon', 'Gurgaon', 'Chennai', 'Chennai', 'Chennai', 'Chennai', 'Chennai', 'Chennai', 'Chennai', 'Chennai', 'Chennai', 'Gurgaon', 'Gurgaon', 'Gurgaon', 'Mexico', 'Mexico', 'Mexico', 'Mexico', 'Mexico', 'Mexico', 'Mexico', 'Mexico', 'Mexico', 'Mexico', 'Mexico', 'Mexico', 'Mexico', 'Mexico', 'Mexico', 'Mexico', 'Mexico', 'Mexico', 'Mexico', 'Mexico', 'Mexico', 'Mexico', 'Mexico', 'Mexico']}\n"
     ]
    }
   ],
   "source": [
    "#mapping dict for emp_name, region and emp_id\n",
    "mapping_dict={'emp_name':df['Name'].values.tolist(),'Region':l3}\n",
    "print(mapping_dict)"
   ]
  },
  {
   "cell_type": "code",
   "execution_count": 33,
   "id": "43106746",
   "metadata": {},
   "outputs": [
    {
     "name": "stdout",
     "output_type": "stream",
     "text": [
      "['Emp_Id', 'Emp_name', 'BD_1', 'BD_2', 'BD_3', 'BD_4', 'BD_5', 'BD_6', 'BD_7', 'BD_8', 'BD_9', 'BD_10', 'BD_11', 'BD_12', 'BD_13', 'BD_14', 'BD_15', 'BD_16', 'BD_17', 'BD_18', 'BD_19', 'BD_20', 'BD_21', 'BD_22', 'BD_23', 'BD_24', 'BD_25', 'BD_26', 'BD_27', 'BD_28', 'BD_29', 'BD_30', 'BD_31']\n"
     ]
    }
   ],
   "source": [
    "print(push_db.columns.tolist())"
   ]
  },
  {
   "cell_type": "code",
   "execution_count": 34,
   "id": "d23141db",
   "metadata": {},
   "outputs": [
    {
     "ename": "ValueError",
     "evalue": "Length mismatch: Expected axis has 32 elements, new values have 33 elements",
     "output_type": "error",
     "traceback": [
      "\u001b[1;31m---------------------------------------------------------------------------\u001b[0m",
      "\u001b[1;31mValueError\u001b[0m                                Traceback (most recent call last)",
      "Input \u001b[1;32mIn [34]\u001b[0m, in \u001b[0;36m<cell line: 1>\u001b[1;34m()\u001b[0m\n\u001b[1;32m----> 1\u001b[0m df\u001b[38;5;241m.\u001b[39mcolumns\u001b[38;5;241m=\u001b[39mpush_db\u001b[38;5;241m.\u001b[39mcolumns\n",
      "File \u001b[1;32m~\\Anaconda3\\lib\\site-packages\\pandas\\core\\generic.py:5588\u001b[0m, in \u001b[0;36mNDFrame.__setattr__\u001b[1;34m(self, name, value)\u001b[0m\n\u001b[0;32m   5586\u001b[0m \u001b[38;5;28;01mtry\u001b[39;00m:\n\u001b[0;32m   5587\u001b[0m     \u001b[38;5;28mobject\u001b[39m\u001b[38;5;241m.\u001b[39m\u001b[38;5;21m__getattribute__\u001b[39m(\u001b[38;5;28mself\u001b[39m, name)\n\u001b[1;32m-> 5588\u001b[0m     \u001b[38;5;28;01mreturn\u001b[39;00m \u001b[38;5;28;43mobject\u001b[39;49m\u001b[38;5;241;43m.\u001b[39;49m\u001b[38;5;21;43m__setattr__\u001b[39;49m\u001b[43m(\u001b[49m\u001b[38;5;28;43mself\u001b[39;49m\u001b[43m,\u001b[49m\u001b[43m \u001b[49m\u001b[43mname\u001b[49m\u001b[43m,\u001b[49m\u001b[43m \u001b[49m\u001b[43mvalue\u001b[49m\u001b[43m)\u001b[49m\n\u001b[0;32m   5589\u001b[0m \u001b[38;5;28;01mexcept\u001b[39;00m \u001b[38;5;167;01mAttributeError\u001b[39;00m:\n\u001b[0;32m   5590\u001b[0m     \u001b[38;5;28;01mpass\u001b[39;00m\n",
      "File \u001b[1;32m~\\Anaconda3\\lib\\site-packages\\pandas\\_libs\\properties.pyx:70\u001b[0m, in \u001b[0;36mpandas._libs.properties.AxisProperty.__set__\u001b[1;34m()\u001b[0m\n",
      "File \u001b[1;32m~\\Anaconda3\\lib\\site-packages\\pandas\\core\\generic.py:769\u001b[0m, in \u001b[0;36mNDFrame._set_axis\u001b[1;34m(self, axis, labels)\u001b[0m\n\u001b[0;32m    767\u001b[0m \u001b[38;5;28;01mdef\u001b[39;00m \u001b[38;5;21m_set_axis\u001b[39m(\u001b[38;5;28mself\u001b[39m, axis: \u001b[38;5;28mint\u001b[39m, labels: Index) \u001b[38;5;241m-\u001b[39m\u001b[38;5;241m>\u001b[39m \u001b[38;5;28;01mNone\u001b[39;00m:\n\u001b[0;32m    768\u001b[0m     labels \u001b[38;5;241m=\u001b[39m ensure_index(labels)\n\u001b[1;32m--> 769\u001b[0m     \u001b[38;5;28;43mself\u001b[39;49m\u001b[38;5;241;43m.\u001b[39;49m\u001b[43m_mgr\u001b[49m\u001b[38;5;241;43m.\u001b[39;49m\u001b[43mset_axis\u001b[49m\u001b[43m(\u001b[49m\u001b[43maxis\u001b[49m\u001b[43m,\u001b[49m\u001b[43m \u001b[49m\u001b[43mlabels\u001b[49m\u001b[43m)\u001b[49m\n\u001b[0;32m    770\u001b[0m     \u001b[38;5;28mself\u001b[39m\u001b[38;5;241m.\u001b[39m_clear_item_cache()\n",
      "File \u001b[1;32m~\\Anaconda3\\lib\\site-packages\\pandas\\core\\internals\\managers.py:214\u001b[0m, in \u001b[0;36mBaseBlockManager.set_axis\u001b[1;34m(self, axis, new_labels)\u001b[0m\n\u001b[0;32m    212\u001b[0m \u001b[38;5;28;01mdef\u001b[39;00m \u001b[38;5;21mset_axis\u001b[39m(\u001b[38;5;28mself\u001b[39m, axis: \u001b[38;5;28mint\u001b[39m, new_labels: Index) \u001b[38;5;241m-\u001b[39m\u001b[38;5;241m>\u001b[39m \u001b[38;5;28;01mNone\u001b[39;00m:\n\u001b[0;32m    213\u001b[0m     \u001b[38;5;66;03m# Caller is responsible for ensuring we have an Index object.\u001b[39;00m\n\u001b[1;32m--> 214\u001b[0m     \u001b[38;5;28;43mself\u001b[39;49m\u001b[38;5;241;43m.\u001b[39;49m\u001b[43m_validate_set_axis\u001b[49m\u001b[43m(\u001b[49m\u001b[43maxis\u001b[49m\u001b[43m,\u001b[49m\u001b[43m \u001b[49m\u001b[43mnew_labels\u001b[49m\u001b[43m)\u001b[49m\n\u001b[0;32m    215\u001b[0m     \u001b[38;5;28mself\u001b[39m\u001b[38;5;241m.\u001b[39maxes[axis] \u001b[38;5;241m=\u001b[39m new_labels\n",
      "File \u001b[1;32m~\\Anaconda3\\lib\\site-packages\\pandas\\core\\internals\\base.py:69\u001b[0m, in \u001b[0;36mDataManager._validate_set_axis\u001b[1;34m(self, axis, new_labels)\u001b[0m\n\u001b[0;32m     66\u001b[0m     \u001b[38;5;28;01mpass\u001b[39;00m\n\u001b[0;32m     68\u001b[0m \u001b[38;5;28;01melif\u001b[39;00m new_len \u001b[38;5;241m!=\u001b[39m old_len:\n\u001b[1;32m---> 69\u001b[0m     \u001b[38;5;28;01mraise\u001b[39;00m \u001b[38;5;167;01mValueError\u001b[39;00m(\n\u001b[0;32m     70\u001b[0m         \u001b[38;5;124mf\u001b[39m\u001b[38;5;124m\"\u001b[39m\u001b[38;5;124mLength mismatch: Expected axis has \u001b[39m\u001b[38;5;132;01m{\u001b[39;00mold_len\u001b[38;5;132;01m}\u001b[39;00m\u001b[38;5;124m elements, new \u001b[39m\u001b[38;5;124m\"\u001b[39m\n\u001b[0;32m     71\u001b[0m         \u001b[38;5;124mf\u001b[39m\u001b[38;5;124m\"\u001b[39m\u001b[38;5;124mvalues have \u001b[39m\u001b[38;5;132;01m{\u001b[39;00mnew_len\u001b[38;5;132;01m}\u001b[39;00m\u001b[38;5;124m elements\u001b[39m\u001b[38;5;124m\"\u001b[39m\n\u001b[0;32m     72\u001b[0m     )\n",
      "\u001b[1;31mValueError\u001b[0m: Length mismatch: Expected axis has 32 elements, new values have 33 elements"
     ]
    }
   ],
   "source": [
    "df.columns=push_db.columns"
   ]
  },
  {
   "cell_type": "code",
   "execution_count": 35,
   "id": "d2c372c5",
   "metadata": {},
   "outputs": [
    {
     "name": "stdout",
     "output_type": "stream",
     "text": [
      "32\n"
     ]
    }
   ],
   "source": [
    "print(len(df.columns))"
   ]
  },
  {
   "cell_type": "code",
   "execution_count": null,
   "id": "9c166286",
   "metadata": {},
   "outputs": [],
   "source": []
  }
 ],
 "metadata": {
  "kernelspec": {
   "display_name": "Python 3 (ipykernel)",
   "language": "python",
   "name": "python3"
  },
  "language_info": {
   "codemirror_mode": {
    "name": "ipython",
    "version": 3
   },
   "file_extension": ".py",
   "mimetype": "text/x-python",
   "name": "python",
   "nbconvert_exporter": "python",
   "pygments_lexer": "ipython3",
   "version": "3.9.12"
  }
 },
 "nbformat": 4,
 "nbformat_minor": 5
}
